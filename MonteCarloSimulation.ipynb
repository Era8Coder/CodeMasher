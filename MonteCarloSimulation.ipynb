{
 "cells": [
  {
   "cell_type": "markdown",
   "metadata": {},
   "source": [
    "<h1> <u> <b> MTL 106 Assignment - 1 </b></u></h1> "
   ]
  },
  {
   "cell_type": "markdown",
   "metadata": {},
   "source": [
    "<h3><b>Below is the Code for Problem 1</b></h3>"
   ]
  },
  {
   "cell_type": "code",
   "execution_count": 8,
   "metadata": {},
   "outputs": [
    {
     "name": "stdout",
     "output_type": "stream",
     "text": [
      "0.31076\n"
     ]
    }
   ],
   "source": [
    "import random \n",
    "\n",
    "def max_idx(lst):           # Here I am going to find the index of the maximum number in the list\n",
    "    maxi = max(lst)\n",
    "    for j in range(0,len(lst)):\n",
    "        if lst[j] == maxi:\n",
    "            return j\n",
    "        \n",
    "    return 0\n",
    "\n",
    "def q1(Alice,Me):\n",
    "    win = 0                # It will keep the count of win total \n",
    "    for i in range(1,100001):           \n",
    "        lst_1 = list(Alice)     \n",
    "        lst_2 = list(Me)\n",
    "        while len(lst_1) > 0 and len(lst_2) > 0:\n",
    "            num = random.random()               # it will generate the random probability and we have to compare it with the winning probability \n",
    "            alice_idx = int(random.random() * len(lst_1))       # random index of the Alice\n",
    "            max_index = max_idx(lst_2)          # it will give me the index of the maximum number\n",
    "            if lst_2[max_index] / (lst_2[max_index] + lst_1[alice_idx]) > num :             \n",
    "                lst_2[max_index] = lst_2[max_index] + lst_1[alice_idx]\n",
    "                lst_1.pop(alice_idx)    \n",
    "\n",
    "            else:\n",
    "                lst_1[alice_idx] = lst_1[alice_idx] + lst_2[max_index]\n",
    "                lst_2.pop(max_index)\n",
    "\n",
    "        if len(lst_2) > 0:\n",
    "            win = win + 1                       # increasing the number of wins\n",
    "\n",
    "    return win / 100000                         # it's giving the probability \n",
    "\n",
    "Alice = [3,4,6,7]\n",
    "Me = [1,1,7]                            # my entry number\n",
    "print(q1(Alice,Me))"
   ]
  },
  {
   "cell_type": "markdown",
   "metadata": {},
   "source": [
    "<h3><b>Below is the Code for Problem 2</b></h3>"
   ]
  },
  {
   "cell_type": "code",
   "execution_count": 6,
   "metadata": {},
   "outputs": [
    {
     "name": "stdout",
     "output_type": "stream",
     "text": [
      "0.31123\n"
     ]
    }
   ],
   "source": [
    "def min_idx(lst):\n",
    "    mini = min(lst)\n",
    "    for j in range(0,len(lst)):\n",
    "        if lst[j] == mini:\n",
    "            return j \n",
    "    \n",
    "\n",
    "    return 0\n",
    "\n",
    "def q2(Alice,Me):\n",
    "    win = 0\n",
    "    for i in range(1,100001):\n",
    "        lst1 = list(Alice)\n",
    "        lst2 = list(Me)\n",
    "        while len(lst1) > 0 and len(lst2) > 0:\n",
    "            num = random.random()\n",
    "            alice_idx = int(random.random() * len(lst1))\n",
    "            min_index = min_idx(lst2)\n",
    "            if lst2[min_index] / (lst2[min_index] + lst1[alice_idx]) > num:\n",
    "                lst2[min_index] = lst2[min_index] + lst1[alice_idx]\n",
    "                lst1.pop(alice_idx)\n",
    "\n",
    "            else:\n",
    "                lst1[alice_idx] = lst1[alice_idx] + lst2[min_index]\n",
    "                lst2.pop(min_index)\n",
    "\n",
    "        if len(lst2) > 0:\n",
    "            win = win + 1\n",
    "\n",
    "    return win / 100000\n",
    "\n",
    "Alice = [3,4,6,7]\n",
    "Me = [1,1,7]\n",
    "print(q2(Alice,Me))"
   ]
  },
  {
   "cell_type": "markdown",
   "metadata": {},
   "source": [
    "<h3><b>Below is the Explanation for Problem 3</b></h3>\n",
    "<h4> Expected Gain = y * (x)/(x+y) {If I won the game} and -x * (y)/(x+y) {If Alice won the Game} and we have to do summation of it\n",
    "therefore we can say that overall Overall Expexted Gain = 0; Hence The Game is Fair.</h4>"
   ]
  },
  {
   "cell_type": "markdown",
   "metadata": {},
   "source": [
    "<h3><b>Below is the Code for Problem 4</b></h3>"
   ]
  },
  {
   "cell_type": "code",
   "execution_count": 5,
   "metadata": {},
   "outputs": [
    {
     "name": "stdout",
     "output_type": "stream",
     "text": [
      "0.30835\n"
     ]
    }
   ],
   "source": [
    "def q3(Alice,Me):\n",
    "    win = 0\n",
    "    for i in range(1,100001):\n",
    "        lst1 = list(Alice)\n",
    "        lst2 = list(Me)\n",
    "        while len(lst1) > 0 and len(lst2) > 0:\n",
    "            num = random.random()\n",
    "            alice_idx = int(random.random() * len(lst1))\n",
    "            me_idx = int(random.random()*len(lst2))\n",
    "            if lst2[me_idx] / (lst1[alice_idx] + lst2[me_idx]) > num:\n",
    "                lst2[me_idx] = lst2[me_idx] + lst1[alice_idx]\n",
    "                lst1.pop(alice_idx)\n",
    "\n",
    "            else:\n",
    "                lst1[alice_idx] = lst2[me_idx] + lst1[alice_idx]\n",
    "                lst2.pop(me_idx)\n",
    "\n",
    "        if len(lst2) > 0:\n",
    "            win = win + 1\n",
    "\n",
    "    return win / 100000\n",
    "\n",
    "Alice = [3,4,6,7]\n",
    "Me = [1,1,7]\n",
    "print(q3(Alice,Me))"
   ]
  },
  {
   "cell_type": "markdown",
   "metadata": {},
   "source": [
    "<h3> Theroetical value of the winning of My is => (Sum of My Strengths) / (Sum of My Strengths + Alice Strengths) = 9/29;\n",
    "Therefore it's approx equal to the Winning of one of my players and we can see that winning probability is approx independent of the \n",
    "order in which we choose them. </h3>\n",
    "\n",
    "<h4> Here I am going to take the help of Induction to prove this part :-> \n",
    "        Let A = summation of Powers of Me\n",
    "        Let B = summation of Powers of Alice\n",
    "        Therefore we have to prove that :-> \n",
    "                Probability of my Winning = A / (A + B)\n",
    "                Probability of Alice Winning = B / (A + B)\n",
    "                we are proving it using induction for n and m elements initially in Alice and mine lists respectively and then proving it for n + 1 + m \n",
    "                using induction.\n",
    "                It's obviously true for m = n = 1;\n",
    "                For m + n = N; \n",
    "                let one team has m members only and other has n + 1(increased one);\n",
    "                A = summation of Powers of Me\n",
    "                B = summation of n+1 Powers of Alice\n",
    "                My team sends a warrior with strength \"a\" and another with strength \"b\". The first team wins with probability of a/(a+b)\n",
    "                and other team wins with probability of b/(a+b).\n",
    "                Depending upon who wins the game we can make two cases :->\n",
    "                a. If I won -> {a1,a2......,a+b,.......am} and {b1,b2......,b(removed),......b(n+1)}\n",
    "                b. If Alice won -> {a1,a2,......a(removed),.....am} and {b1,b2......,b+a,.......b(n+1)}\n",
    "                According to the induction Hypothesis :-> \n",
    "                Chances of First team to win = (A + b)/(A + B);\n",
    "                In the second case it is equal to (A - a)/(A + B)\n",
    "                making the overall probability to be :-> \n",
    "                P{Total} = a/(a+b)*(A+b/A+B) + b/(a+b)*(A-a/A+B)\n",
    "                         = aA + bA / (a+b)*(A+B)\n",
    "                         = A / (A + B)</h4>"
   ]
  },
  {
   "cell_type": "markdown",
   "metadata": {},
   "source": []
  }
 ],
 "metadata": {
  "kernelspec": {
   "display_name": "Python 3",
   "language": "python",
   "name": "python3"
  },
  "language_info": {
   "codemirror_mode": {
    "name": "ipython",
    "version": 3
   },
   "file_extension": ".py",
   "mimetype": "text/x-python",
   "name": "python",
   "nbconvert_exporter": "python",
   "pygments_lexer": "ipython3",
   "version": "3.11.6"
  }
 },
 "nbformat": 4,
 "nbformat_minor": 2
}
